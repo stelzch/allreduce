{
 "cells": [
  {
   "cell_type": "markdown",
   "id": "75488564",
   "metadata": {},
   "source": [
    "# Choosing an optimal distributed binary tree\n",
    "\n",
    "As proven in [this](https://math.stackexchange.com/a/1462106) StackExchange response, there are $\\frac{(y+x-1)!}{y!(x-1)!}$ possible combinations of x numbers from $\\mathbb{N}_0$ that sum up to y.\n",
    "\n",
    "If we define $n$ as the number of floating-point numbers that are to be summed up and $m$ as the largest rank index (cluster size minus 1), we therefore determine that the number of possible assignment of summands to ranks (including zero-assignments and permutations) is:\n",
    "$$\\frac{(n+m)!}{n! m!} = \\frac{n! \\cdot (n+1) \\cdot ... \\cdot (n+m)}{n!m!} = \\frac{1}{m!} \\Pi^m_{i=1} (n+i) $$"
   ]
  },
  {
   "cell_type": "code",
   "execution_count": 1,
   "id": "05de2a33",
   "metadata": {
    "scrolled": true
   },
   "outputs": [
    {
     "data": {
      "text/plain": [
       "4.092836842947645e+47"
      ]
     },
     "execution_count": 1,
     "metadata": {},
     "output_type": "execute_result"
    }
   ],
   "source": [
    "from math import factorial\n",
    "from functools import reduce\n",
    "\n",
    "n = 21410970 # number of per-site log likelihoods from TarvD7\n",
    "m = 8 -1 # number of cores in my desktop CPU - 1\n",
    "\n",
    "\n",
    "combinations = reduce(lambda x, y: x * y, [n + i for i in range(1, m + 1)]) / factorial(m)\n",
    "\n",
    "combinations"
   ]
  },
  {
   "cell_type": "markdown",
   "id": "0883e307",
   "metadata": {},
   "source": [
    "So, when calculating the sum of log-likelihoods of TarvD7 on my desktop PC, there are about $4 \\cdot 10^{47}$ different \n",
    "binary trees we could use. That is a lot. If we still want to choose a decent tree, we need heuristics."
   ]
  },
  {
   "cell_type": "code",
   "execution_count": 2,
   "id": "cda75bf4",
   "metadata": {},
   "outputs": [],
   "source": [
    "def parent(idx):\n",
    "    return idx & (idx - 1)\n",
    "\n",
    "def calcStartIndices(n_summands):\n",
    "    idx = 0\n",
    "    result = list()\n",
    "    for n in n_summands:\n",
    "        result.append(idx)\n",
    "        idx += n\n",
    "    return result\n",
    "\n",
    "def rankFromIndex(idx, startIndices):\n",
    "    guard = [(len(startIndices), 1)]\n",
    "    offset = [(rank, startIdx - idx) for rank, startIdx in enumerate(startIndices)] + guard\n",
    "    # find first positive valued offset\n",
    "    offset_is_positive = lambda rank_offset_tuple: rank_offset_tuple[1] > 0\n",
    "    rank = next(filter(offset_is_positive, offset))[0]\n",
    "    return rank - 1\n",
    "\n",
    "\n",
    "\"\"\"\n",
    "Given a list of summands that are assigned to each rank, how many partial sums must be sent out to another rank.\n",
    "\"\"\"\n",
    "def rankIntersectingNumbers(n_summands, startIndices):\n",
    "    n_parts = sum(n_summands)\n",
    "    is_rank_intersecting = lambda idx: rankFromIndex(idx, startIndices) != rankFromIndex(parent(idx), startIndices)\n",
    "    \n",
    "    rank_intersecting_summands = filter(is_rank_intersecting, range(0, n_parts))\n",
    "    return list(rank_intersecting_summands)\n",
    "\n",
    "def rankIntersectionCount(n_summands, startIndices):\n",
    "    is_rank_intersecting = lambda startIndex, idx: parent(idx) < startIndex\n",
    "    # calculate a boolean list of rank intersecting numbers for each rank\n",
    "    rankIntersectingFlagsPerRank = map(lambda t:\n",
    "           [is_rank_intersecting(t[0], i) for i in range(t[0], t[0] + t[1])], zip(startIndices, n_summands))\n",
    "    \n",
    "    countTrueValues = lambda x: reduce(lambda acc, flag: acc + 1 if flag else acc, x, 0)\n",
    "    return sum(map(countTrueValues, rankIntersectingFlagsPerRank))"
   ]
  },
  {
   "cell_type": "code",
   "execution_count": 3,
   "id": "b6acbe36",
   "metadata": {},
   "outputs": [
    {
     "name": "stdout",
     "output_type": "stream",
     "text": [
      "[3, 4, 7, 8, 16]\n"
     ]
    }
   ],
   "source": [
    "n_summands = [3, 4, 23]\n",
    "startIndices = calcStartIndices(n_summands)\n",
    "\n",
    "rin = rankIntersectingNumbers(n_summands, startIndices)\n",
    "print(rin)"
   ]
  },
  {
   "cell_type": "markdown",
   "id": "4cf31596",
   "metadata": {},
   "source": [
    "Covering the whole search space is likely not feasible, since the calculation of rankIntersectingNumbers is non-trivial and the number of possible combinations really high."
   ]
  },
  {
   "cell_type": "code",
   "execution_count": 4,
   "id": "19bc7e03",
   "metadata": {},
   "outputs": [],
   "source": [
    "from itertools import permutations\n",
    "\n",
    "def possibleNSummands(clusterSize, numberOfParts):\n",
    "    # Naive implementation after https://math.stackexchange.com/a/1462106\n",
    "    t = (\"*\" * numberOfParts) + (\"+\" * clusterSize)\n",
    "    for tuple_c in permutations(t, len(t)):\n",
    "        c = \"\".join(tuple_c)\n",
    "        n_summands = list(map(lambda x: len(x), c.split(\"+\")))\n",
    "        # relative percentage of summands\n",
    "        legal = map(lambda x: (1.0 - ( x/ (numberOfParts / clusterSize)) <= 0.1), n_summands)\n",
    "        if all(list(legal)):\n",
    "            yield n_summands\n",
    "        "
   ]
  },
  {
   "cell_type": "code",
   "execution_count": 5,
   "id": "54d112d0",
   "metadata": {},
   "outputs": [],
   "source": [
    "%%script false --no-raise-error\n",
    "# Even if left running 24/7, this piece of code probably wont finish in my lifetime (or the reader's)\n",
    "# MORTALS, DO NOT RUN THIS CODE!\n",
    "clusterSize = 2\n",
    "number_of_parts = 214109\n",
    "scores = [(rankIntersectionCount(n_summands, calcStartIndices(n_summands)), n_summands)\n",
    "          for n_summands in possibleNSummands(clusterSize, number_of_parts)]\n",
    "\n",
    "best_scores = sorted(scores, key=lambda t: t[0])\n",
    "best = best_scores[0]\n",
    "perfect = best[0] <= clusterSize\n",
    "\n",
    "(perfect, best)"
   ]
  },
  {
   "cell_type": "markdown",
   "id": "c11a38c9",
   "metadata": {},
   "source": [
    "If we simply try to minimize the number of messages sent between ranks, the search algorithm will slyly place all numbers on rank 0, alleviating the communicator of sending any messages. In reality, this most likely will not be the fastest method, because the CPU is going to be the bottleneck instead of the network. Other performance metrics are needed to score different distributions.\n",
    "\n",
    "## Modeling communication and computation\n",
    "\n",
    "With [this naive benchmark](https://github.com/stelzch/allreduce-prep/blob/599fb8e75f7110b96bd1b59e503677b4481f2d89/benchmarks/mpi_send_bench.cpp), we can see that a send & receive can take as little as 281 ns on a shared-memory machine. Let us generously assume that this is the time used by sending a partial sum between two ranks. A simple addition of double values is shown by the following benchmark to take about 4.16ns, assuming all data does fit in the cache:\n",
    "\n",
    "    Running ./benchmark\n",
    "    Run on (8 X 4000 MHz CPU s)\n",
    "    CPU Caches:\n",
    "      L1 Data 16 KiB (x8)\n",
    "      L1 Instruction 64 KiB (x4)\n",
    "      L2 Unified 2048 KiB (x4)\n",
    "      L3 Unified 8192 KiB (x1)\n",
    "    Load Average: 1.82, 2.26, 2.41\n",
    "    ***WARNING*** CPU scaling is enabled, the benchmark real time measurements may be noisy and will incur extra overhead.\n",
    "    ----------------------------------------------------------------------\n",
    "    Benchmark                            Time             CPU   Iterations\n",
    "    ----------------------------------------------------------------------\n",
    "    [...]\n",
    "    BM_summation                      4.16 ns         4.15 ns    168624096\n",
    "    \n",
    "With these naive estimations, we build the following tree scoring function:\n",
    "\n",
    "$$\n",
    "Score = t_{\\textrm{MPI_Send}} * n_{\\textrm{rankIntersectingNumbers}} + max \\{i \\in [0, m]\\, |\\, n_i * t_{\\textrm{double add}} \\}\n",
    "$$\n",
    "\n",
    "where $n_{\\textrm{rankIntersectingNumbers}}$ is the numbers of rank intersecting partial sums, $m$ the largest rank index and $n_i$ the number of summands assigned to rank $i$."
   ]
  },
  {
   "cell_type": "code",
   "execution_count": 6,
   "id": "8e6579ca",
   "metadata": {},
   "outputs": [
    {
     "data": {
      "text/html": [
       "<table><tr><th>Name</th><th>Assigned numbers per rank</th><th>Score</th><th>Number of messages</th><tr><td>Evenly distributed</td><td>[126212, 126212, 126212, 126212]</td><td>0.0005313668</td><td>27</td></tr><tr><td>All on rank 0</td><td>[504848, 0, 0, 0]</td><td>0.0020951192</td><td>0</td></tr></table>"
      ],
      "text/plain": [
       "<IPython.core.display.HTML object>"
      ]
     },
     "metadata": {},
     "output_type": "display_data"
    }
   ],
   "source": [
    "t_send = 281e-9\n",
    "t_doubleadd = 4.15e-9\n",
    "\n",
    "def score(x):\n",
    "    return t_send * rankIntersectionCount(x, calcStartIndices(x)) + max(x) * t_doubleadd\n",
    "\n",
    "n = 504850 # number of per-site log likelihoods from PeteD8\n",
    "\n",
    "from IPython.display import HTML, display\n",
    "\n",
    "def display_table(data, header = [\"Name\", \"Assigned numbers per rank\", \"Score\", \"Number of messages\"]):\n",
    "    html = \"<table>\"\n",
    "    if len(header) > 0:\n",
    "        html += \"<tr>\" + \"\".join([\"<th>\" + h + \"</th>\" for h in header])\n",
    "    for row in data:\n",
    "        html += \"<tr>\"\n",
    "        for field in row:\n",
    "            html += \"<td>%s</td>\"%(field)\n",
    "        html += \"</tr>\"\n",
    "    html += \"</table>\"\n",
    "    display(HTML(html))\n",
    "\n",
    "score_tuple = lambda desc, x: (desc, x, score(x), rankIntersectionCount(x, calcStartIndices(x)))\n",
    "display_table([\n",
    "    score_tuple(\"Evenly distributed\", [n//4] * 4),\n",
    "    score_tuple(\"All on rank 0\", [n // 4 * 4, 0, 0, 0])\n",
    "])"
   ]
  },
  {
   "cell_type": "markdown",
   "id": "f012b4b8",
   "metadata": {},
   "source": [
    "Now we can see that it takes considerably more time when doing everything on rank 0, since we profit from our multiprocessing capabilities.\n",
    "\n",
    "Let us use 256 cores now, and round the number of summands down to the greatest power of 2 that is still smaller than our fair share."
   ]
  },
  {
   "cell_type": "code",
   "execution_count": 17,
   "id": "5c1b3435",
   "metadata": {},
   "outputs": [
    {
     "data": {
      "text/html": [
       "<table><tr><th>Name</th><th>Assigned numbers per rank</th><th>Score</th><th>Number of messages</th><tr><td>Evenly distributed</td><td>[1972, 1972, 1972, 1972, 1972, 1972, 1972, 1972, 1972, 1972, 1972, 1972, 1972, 1972, 1972, 1972, 1972, 1972, 1972, 1972, 1972, 1972, 1972, 1972, 1972, 1972, 1972, 1972, 1972, 1972, 1972, 1972, 1972, 1972, 1972, 1972, 1972, 1972, 1972, 1972, 1972, 1972, 1972, 1972, 1972, 1972, 1972, 1972, 1972, 1972, 1972, 1972, 1972, 1972, 1972, 1972, 1972, 1972, 1972, 1972, 1972, 1972, 1972, 1972, 1972, 1972, 1972, 1972, 1972, 1972, 1972, 1972, 1972, 1972, 1972, 1972, 1972, 1972, 1972, 1972, 1972, 1972, 1972, 1972, 1972, 1972, 1972, 1972, 1972, 1972, 1972, 1972, 1972, 1972, 1972, 1972, 1972, 1972, 1972, 1972, 1972, 1972, 1972, 1972, 1972, 1972, 1972, 1972, 1972, 1972, 1972, 1972, 1972, 1972, 1972, 1972, 1972, 1972, 1972, 1972, 1972, 1972, 1972, 1972, 1972, 1972, 1972, 1972, 1972, 1972, 1972, 1972, 1972, 1972, 1972, 1972, 1972, 1972, 1972, 1972, 1972, 1972, 1972, 1972, 1972, 1972, 1972, 1972, 1972, 1972, 1972, 1972, 1972, 1972, 1972, 1972, 1972, 1972, 1972, 1972, 1972, 1972, 1972, 1972, 1972, 1972, 1972, 1972, 1972, 1972, 1972, 1972, 1972, 1972, 1972, 1972, 1972, 1972, 1972, 1972, 1972, 1972, 1972, 1972, 1972, 1972, 1972, 1972, 1972, 1972, 1972, 1972, 1972, 1972, 1972, 1972, 1972, 1972, 1972, 1972, 1972, 1972, 1972, 1972, 1972, 1972, 1972, 1972, 1972, 1972, 1972, 1972, 1972, 1972, 1972, 1972, 1972, 1972, 1972, 1972, 1972, 1972, 1972, 1972, 1972, 1972, 1972, 1972, 1972, 1972, 1972, 1972, 1972, 1972, 1972, 1972, 1972, 1972, 1973, 1973, 1973, 1973, 1973, 1973, 1973, 1973, 1973, 1973, 1973, 1973, 1973, 1973, 1973, 1973, 1973, 1973]</td><td>0.00040186895</td><td>1401</td></tr><tr><td>Evenly distributed (remainder on lower ranks)</td><td>[1973, 1973, 1973, 1973, 1973, 1973, 1973, 1973, 1973, 1973, 1973, 1973, 1973, 1973, 1973, 1973, 1973, 1973, 1972, 1972, 1972, 1972, 1972, 1972, 1972, 1972, 1972, 1972, 1972, 1972, 1972, 1972, 1972, 1972, 1972, 1972, 1972, 1972, 1972, 1972, 1972, 1972, 1972, 1972, 1972, 1972, 1972, 1972, 1972, 1972, 1972, 1972, 1972, 1972, 1972, 1972, 1972, 1972, 1972, 1972, 1972, 1972, 1972, 1972, 1972, 1972, 1972, 1972, 1972, 1972, 1972, 1972, 1972, 1972, 1972, 1972, 1972, 1972, 1972, 1972, 1972, 1972, 1972, 1972, 1972, 1972, 1972, 1972, 1972, 1972, 1972, 1972, 1972, 1972, 1972, 1972, 1972, 1972, 1972, 1972, 1972, 1972, 1972, 1972, 1972, 1972, 1972, 1972, 1972, 1972, 1972, 1972, 1972, 1972, 1972, 1972, 1972, 1972, 1972, 1972, 1972, 1972, 1972, 1972, 1972, 1972, 1972, 1972, 1972, 1972, 1972, 1972, 1972, 1972, 1972, 1972, 1972, 1972, 1972, 1972, 1972, 1972, 1972, 1972, 1972, 1972, 1972, 1972, 1972, 1972, 1972, 1972, 1972, 1972, 1972, 1972, 1972, 1972, 1972, 1972, 1972, 1972, 1972, 1972, 1972, 1972, 1972, 1972, 1972, 1972, 1972, 1972, 1972, 1972, 1972, 1972, 1972, 1972, 1972, 1972, 1972, 1972, 1972, 1972, 1972, 1972, 1972, 1972, 1972, 1972, 1972, 1972, 1972, 1972, 1972, 1972, 1972, 1972, 1972, 1972, 1972, 1972, 1972, 1972, 1972, 1972, 1972, 1972, 1972, 1972, 1972, 1972, 1972, 1972, 1972, 1972, 1972, 1972, 1972, 1972, 1972, 1972, 1972, 1972, 1972, 1972, 1972, 1972, 1972, 1972, 1972, 1972, 1972, 1972, 1972, 1972, 1972, 1972, 1972, 1972, 1972, 1972, 1972, 1972, 1972, 1972, 1972, 1972, 1972, 1972, 1972, 1972, 1972, 1972, 1972, 1972]</td><td>0.00046902794999999995</td><td>1640</td></tr><tr><td>Round down to power of 2</td><td>[1024, 1024, 1024, 1024, 1024, 1024, 1024, 1024, 1024, 1024, 1024, 1024, 1024, 1024, 1024, 1024, 1024, 1024, 1024, 1024, 1024, 1024, 1024, 1024, 1024, 1024, 1024, 1024, 1024, 1024, 1024, 1024, 1024, 1024, 1024, 1024, 1024, 1024, 1024, 1024, 1024, 1024, 1024, 1024, 1024, 1024, 1024, 1024, 1024, 1024, 1024, 1024, 1024, 1024, 1024, 1024, 1024, 1024, 1024, 1024, 1024, 1024, 1024, 1024, 1024, 1024, 1024, 1024, 1024, 1024, 1024, 1024, 1024, 1024, 1024, 1024, 1024, 1024, 1024, 1024, 1024, 1024, 1024, 1024, 1024, 1024, 1024, 1024, 1024, 1024, 1024, 1024, 1024, 1024, 1024, 1024, 1024, 1024, 1024, 1024, 1024, 1024, 1024, 1024, 1024, 1024, 1024, 1024, 1024, 1024, 1024, 1024, 1024, 1024, 1024, 1024, 1024, 1024, 1024, 1024, 1024, 1024, 1024, 1024, 1024, 1024, 1024, 1024, 1024, 1024, 1024, 1024, 1024, 1024, 1024, 1024, 1024, 1024, 1024, 1024, 1024, 1024, 1024, 1024, 1024, 1024, 1024, 1024, 1024, 1024, 1024, 1024, 1024, 1024, 1024, 1024, 1024, 1024, 1024, 1024, 1024, 1024, 1024, 1024, 1024, 1024, 1024, 1024, 1024, 1024, 1024, 1024, 1024, 1024, 1024, 1024, 1024, 1024, 1024, 1024, 1024, 1024, 1024, 1024, 1024, 1024, 1024, 1024, 1024, 1024, 1024, 1024, 1024, 1024, 1024, 1024, 1024, 1024, 1024, 1024, 1024, 1024, 1024, 1024, 1024, 1024, 1024, 1024, 1024, 1024, 1024, 1024, 1024, 1024, 1024, 1024, 1024, 1024, 1024, 1024, 1024, 1024, 1024, 1024, 1024, 1024, 1024, 1024, 1024, 1024, 1024, 1024, 1024, 1024, 1024, 1024, 1024, 1024, 1024, 1024, 1024, 1024, 1024, 1024, 1024, 1024, 1024, 1024, 1024, 1024, 1024, 1024, 1024, 1024, 1024, 243730]</td><td>0.0010834155</td><td>256</td></tr></table>"
      ],
      "text/plain": [
       "<IPython.core.display.HTML object>"
      ]
     },
     "metadata": {},
     "output_type": "display_data"
    }
   ],
   "source": [
    "from math import log2, floor\n",
    "floor_to_power_of_2 = lambda x: 2**floor(log2(x))\n",
    "\n",
    "n = 504850 # number of per-site log likelihoods from PeteD8\n",
    "m = 256 # Let's throw some cores at the problem\n",
    "\n",
    "per_rank = floor_to_power_of_2(n // m)\n",
    "power2_distribution = [per_rank] * m\n",
    "power2_distribution[-1] += n - sum(power2_distribution) # remainder goes on last rank\n",
    "\n",
    "\n",
    "even_distribution = [n//m] * m\n",
    "for i in range(0, n % m):\n",
    "    even_distribution[-i-1] += 1 #n - sum(even_distribution)\n",
    "\n",
    "even_distribution_remainder_on_first = [n // m] * m\n",
    "for i in range(0, n % m):\n",
    "    even_distribution_remainder_on_first[i] += 1\n",
    "\n",
    "    \n",
    "assert(sum(power2_distribution) == sum(even_distribution) == sum(even_distribution_remainder_on_first))\n",
    "reference=score_tuple(\"Evenly distributed\", even_distribution)\n",
    "\n",
    "display_table([\n",
    "    reference,\n",
    "    score_tuple(\"Evenly distributed (remainder on lower ranks)\", even_distribution_remainder_on_first),\n",
    "    score_tuple(\"Round down to power of 2\", power2_distribution)\n",
    "])"
   ]
  },
  {
   "cell_type": "markdown",
   "id": "afc0a137",
   "metadata": {},
   "source": [
    "As we can see, the round down to power of 2 approach yielded the optimal amount of messages, but our model predicts a runtime twice as long as the even distribution, probably because of the imbalance in the distribution of the computational work load.\n",
    "\n",
    "Next, lets try to reduce the number of message by clearing least-significant zeros of the starting indices until we reach a certain threshold."
   ]
  },
  {
   "cell_type": "code",
   "execution_count": 18,
   "id": "c1959397",
   "metadata": {},
   "outputs": [
    {
     "data": {
      "text/html": [
       "<table><tr><th>Name</th><th>Assigned numbers per rank</th><th>Score</th><th>Number of messages</th><tr><td>Evenly distributed</td><td>[1972, 1972, 1972, 1972, 1972, 1972, 1972, 1972, 1972, 1972, 1972, 1972, 1972, 1972, 1972, 1972, 1972, 1972, 1972, 1972, 1972, 1972, 1972, 1972, 1972, 1972, 1972, 1972, 1972, 1972, 1972, 1972, 1972, 1972, 1972, 1972, 1972, 1972, 1972, 1972, 1972, 1972, 1972, 1972, 1972, 1972, 1972, 1972, 1972, 1972, 1972, 1972, 1972, 1972, 1972, 1972, 1972, 1972, 1972, 1972, 1972, 1972, 1972, 1972, 1972, 1972, 1972, 1972, 1972, 1972, 1972, 1972, 1972, 1972, 1972, 1972, 1972, 1972, 1972, 1972, 1972, 1972, 1972, 1972, 1972, 1972, 1972, 1972, 1972, 1972, 1972, 1972, 1972, 1972, 1972, 1972, 1972, 1972, 1972, 1972, 1972, 1972, 1972, 1972, 1972, 1972, 1972, 1972, 1972, 1972, 1972, 1972, 1972, 1972, 1972, 1972, 1972, 1972, 1972, 1972, 1972, 1972, 1972, 1972, 1972, 1972, 1972, 1972, 1972, 1972, 1972, 1972, 1972, 1972, 1972, 1972, 1972, 1972, 1972, 1972, 1972, 1972, 1972, 1972, 1972, 1972, 1972, 1972, 1972, 1972, 1972, 1972, 1972, 1972, 1972, 1972, 1972, 1972, 1972, 1972, 1972, 1972, 1972, 1972, 1972, 1972, 1972, 1972, 1972, 1972, 1972, 1972, 1972, 1972, 1972, 1972, 1972, 1972, 1972, 1972, 1972, 1972, 1972, 1972, 1972, 1972, 1972, 1972, 1972, 1972, 1972, 1972, 1972, 1972, 1972, 1972, 1972, 1972, 1972, 1972, 1972, 1972, 1972, 1972, 1972, 1972, 1972, 1972, 1972, 1972, 1972, 1972, 1972, 1972, 1972, 1972, 1972, 1972, 1972, 1972, 1972, 1972, 1972, 1972, 1972, 1972, 1972, 1972, 1972, 1972, 1972, 1972, 1972, 1972, 1972, 1972, 1972, 1972, 1973, 1973, 1973, 1973, 1973, 1973, 1973, 1973, 1973, 1973, 1973, 1973, 1973, 1973, 1973, 1973, 1973, 1973]</td><td>0.00040186895</td><td>1401</td></tr><tr><td>LSB clearing</td><td>[1920, 1920, 1920, 1920, 1920, 1920, 1920, 1920, 1920, 1920, 1920, 1920, 1920, 1920, 1920, 1920, 1920, 1920, 1920, 1920, 1920, 1920, 1920, 1920, 1920, 1920, 1920, 1920, 1920, 1920, 1920, 1920, 1920, 1920, 1920, 1920, 1920, 1920, 1920, 1920, 1920, 1920, 1920, 1920, 1920, 1920, 1920, 1920, 1920, 1920, 1920, 1920, 1920, 1920, 1920, 1920, 1920, 1920, 1920, 1920, 1920, 1920, 1920, 1920, 1920, 1920, 1920, 1920, 1920, 1920, 1920, 1920, 1920, 1920, 1920, 1920, 1920, 1920, 1920, 1920, 1920, 1920, 1920, 1920, 1920, 1920, 1920, 1920, 1920, 1920, 1920, 1920, 1920, 1920, 1920, 1920, 1920, 1920, 1920, 1920, 1920, 1920, 1920, 1920, 1920, 1920, 1920, 1920, 1920, 1920, 1920, 1920, 1920, 1920, 1920, 1920, 1920, 1920, 1920, 1920, 1920, 1920, 1920, 1920, 1920, 1920, 1920, 1920, 1920, 1920, 1920, 1920, 1920, 1920, 1920, 1920, 1920, 1920, 1920, 1920, 1920, 1920, 1920, 1920, 1920, 1920, 1920, 1920, 1920, 1920, 1920, 1920, 1920, 1920, 1920, 1920, 1920, 1920, 1920, 1920, 1920, 1920, 1920, 1920, 1920, 1920, 1920, 1920, 1920, 1920, 1920, 1920, 1920, 1920, 1920, 1920, 1920, 1920, 1920, 1920, 1920, 1920, 1920, 1920, 1920, 1920, 1920, 1920, 1920, 1920, 1920, 1920, 1920, 1920, 1920, 1920, 1920, 1920, 1920, 1920, 1920, 1920, 1920, 1920, 1920, 1920, 1920, 1920, 1920, 1920, 1920, 1920, 1920, 1920, 1920, 1920, 1920, 1920, 1920, 1920, 1920, 1920, 1920, 1920, 1920, 1920, 1920, 1920, 1920, 1920, 1920, 1920, 1920, 1920, 1920, 1920, 1920, 1920, 1920, 1920, 1920, 1920, 1920, 1920, 1920, 1920, 1920, 1920, 1920, 1920, 1920, 1920, 1920, 1920, 1920, 15250]</td><td>0.0002745995</td><td>752</td></tr></table>"
      ],
      "text/plain": [
       "<IPython.core.display.HTML object>"
      ]
     },
     "metadata": {},
     "output_type": "display_data"
    }
   ],
   "source": [
    "# fair share is the number of summands we would have been assigned if they were evenly distributed.\n",
    "# We accept differences less than or equal to 5%\n",
    "fairShare = n / m\n",
    "deviationWithinBounds = lambda share, dev, n, m: (1.0 - dev) <= share / (n / m) <= (1.0 + dev)\n",
    "def optimizeIdx(prevIdx, currentIdx, n, m, dev = 0.05):\n",
    "    proposedIdx = currentIdx\n",
    "    while prevIdx < proposedIdx and deviationWithinBounds(proposedIdx - prevIdx, dev, n, m):\n",
    "        currentIdx = proposedIdx # if our proposal is accepted, set the current index to the proposed index\n",
    "        proposedIdx = parent(currentIdx) # optimize our index by setting it to its parent\n",
    "    return currentIdx\n",
    "\n",
    "startIndices = [0]\n",
    "for rank in range(1, m):\n",
    "    last = startIndices[-1]\n",
    "    startIndices.append(optimizeIdx(last, last + int(fairShare), n, m))\n",
    "\n",
    "# Get list of summands per rank and add remaining summands to last rank\n",
    "def startIndices2nSummands(n, x):\n",
    "    extended = x + [n]\n",
    "    return map(lambda t: t[1] - t[0], zip(x, extended[1:]))\n",
    "\n",
    "lsbclear_distribution = list(startIndices2nSummands(n, startIndices))\n",
    "display_table([\n",
    "    reference,\n",
    "    score_tuple(\"LSB clearing\", lsbclear_distribution)\n",
    "])"
   ]
  },
  {
   "cell_type": "markdown",
   "id": "b7c67b83",
   "metadata": {},
   "source": [
    "Nice, while the number of messages is not optimal, the runtime score is now significantly lower and even beats the even distribution.\n",
    "\n",
    "Of course, this not necessarily indicative of any real-world work loads.\n",
    "Let us test with the same number of cores (256) on a much smaller dataset (NagyA1.psllh with 171998 sites):"
   ]
  },
  {
   "cell_type": "code",
   "execution_count": 20,
   "id": "df9e729a",
   "metadata": {},
   "outputs": [
    {
     "data": {
      "text/html": [
       "<table><tr><th>Name</th><th>Assigned numbers per rank</th><th>Score</th><th>Number of messages</th><tr><td>Even distribution</td><td>[893, 671, 671, 671, 671, 671, 671, 671, 671, 671, 671, 671, 671, 671, 671, 671, 671, 671, 671, 671, 671, 671, 671, 671, 671, 671, 671, 671, 671, 671, 671, 671, 671, 671, 671, 671, 671, 671, 671, 671, 671, 671, 671, 671, 671, 671, 671, 671, 671, 671, 671, 671, 671, 671, 671, 671, 671, 671, 671, 671, 671, 671, 671, 671, 671, 671, 671, 671, 671, 671, 671, 671, 671, 671, 671, 671, 671, 671, 671, 671, 671, 671, 671, 671, 671, 671, 671, 671, 671, 671, 671, 671, 671, 671, 671, 671, 671, 671, 671, 671, 671, 671, 671, 671, 671, 671, 671, 671, 671, 671, 671, 671, 671, 671, 671, 671, 671, 671, 671, 671, 671, 671, 671, 671, 671, 671, 671, 671, 671, 671, 671, 671, 671, 671, 671, 671, 671, 671, 671, 671, 671, 671, 671, 671, 671, 671, 671, 671, 671, 671, 671, 671, 671, 671, 671, 671, 671, 671, 671, 671, 671, 671, 671, 671, 671, 671, 671, 671, 671, 671, 671, 671, 671, 671, 671, 671, 671, 671, 671, 671, 671, 671, 671, 671, 671, 671, 671, 671, 671, 671, 671, 671, 671, 671, 671, 671, 671, 671, 671, 671, 671, 671, 671, 671, 671, 671, 671, 671, 671, 671, 671, 671, 671, 671, 671, 671, 671, 671, 671, 671, 671, 671, 671, 671, 671, 671, 671, 671, 671, 671, 671, 671, 671, 671, 671, 671, 671, 671, 671, 671, 671, 671, 671, 671, 671, 671, 671, 671, 671, 671, 671, 671, 671, 671, 671, 671]</td><td>0.00040946995</td><td>1444</td></tr><tr><td>LSB clearing</td><td>[8798, 640, 640, 640, 640, 640, 640, 640, 640, 640, 640, 640, 640, 640, 640, 640, 640, 640, 640, 640, 640, 640, 640, 640, 640, 640, 640, 640, 640, 640, 640, 640, 640, 640, 640, 640, 640, 640, 640, 640, 640, 640, 640, 640, 640, 640, 640, 640, 640, 640, 640, 640, 640, 640, 640, 640, 640, 640, 640, 640, 640, 640, 640, 640, 640, 640, 640, 640, 640, 640, 640, 640, 640, 640, 640, 640, 640, 640, 640, 640, 640, 640, 640, 640, 640, 640, 640, 640, 640, 640, 640, 640, 640, 640, 640, 640, 640, 640, 640, 640, 640, 640, 640, 640, 640, 640, 640, 640, 640, 640, 640, 640, 640, 640, 640, 640, 640, 640, 640, 640, 640, 640, 640, 640, 640, 640, 640, 640, 640, 640, 640, 640, 640, 640, 640, 640, 640, 640, 640, 640, 640, 640, 640, 640, 640, 640, 640, 640, 640, 640, 640, 640, 640, 640, 640, 640, 640, 640, 640, 640, 640, 640, 640, 640, 640, 640, 640, 640, 640, 640, 640, 640, 640, 640, 640, 640, 640, 640, 640, 640, 640, 640, 640, 640, 640, 640, 640, 640, 640, 640, 640, 640, 640, 640, 640, 640, 640, 640, 640, 640, 640, 640, 640, 640, 640, 640, 640, 640, 640, 640, 640, 640, 640, 640, 640, 640, 640, 640, 640, 640, 640, 640, 640, 640, 640, 640, 640, 640, 640, 640, 640, 640, 640, 640, 640, 640, 640, 640, 640, 640, 640, 640, 640, 640, 640, 640, 640, 640, 640, 640, 640, 640, 640, 640, 640, 640]</td><td>0.0003324047</td><td>1053</td></tr></table>"
      ],
      "text/plain": [
       "<IPython.core.display.HTML object>"
      ]
     },
     "metadata": {},
     "output_type": "display_data"
    }
   ],
   "source": [
    "n = 171998\n",
    "m = 256\n",
    "fairShare = n / m\n",
    "\n",
    "even_distribution = [n//m] * m\n",
    "even_distribution[0] += n - sum(even_distribution)\n",
    "\n",
    "startIndices = [0]\n",
    "for rank in range(1, m):\n",
    "    last = startIndices[-1]\n",
    "    startIndices.append(optimizeIdx(last, last + int(fairShare), n, m))\n",
    "    \n",
    "lsbclear_distribution = list(startIndices2nSummands(n, startIndices))\n",
    "display_table([\n",
    "    score_tuple(\"Even distribution\", even_distribution),\n",
    "    score_tuple(\"LSB clearing\", lsbclear_distribution[::-1])\n",
    "])"
   ]
  },
  {
   "cell_type": "markdown",
   "id": "acd53b6c",
   "metadata": {},
   "source": [
    "Again, in this case, our LSB clearing beats the even distribution! In this model, it is about 1.23x faster.\n",
    "\n",
    "Another optimization we could do is not to put the remainder all on one node, but instead spread it across all nodes:"
   ]
  },
  {
   "cell_type": "code",
   "execution_count": 21,
   "id": "8bc77b54",
   "metadata": {},
   "outputs": [
    {
     "data": {
      "text/html": [
       "<table><tr><th>Name</th><th>Assigned numbers per rank</th><th>Score</th><th>Number of messages</th><tr><td>Even distribution</td><td>[893, 671, 671, 671, 671, 671, 671, 671, 671, 671, 671, 671, 671, 671, 671, 671, 671, 671, 671, 671, 671, 671, 671, 671, 671, 671, 671, 671, 671, 671, 671, 671, 671, 671, 671, 671, 671, 671, 671, 671, 671, 671, 671, 671, 671, 671, 671, 671, 671, 671, 671, 671, 671, 671, 671, 671, 671, 671, 671, 671, 671, 671, 671, 671, 671, 671, 671, 671, 671, 671, 671, 671, 671, 671, 671, 671, 671, 671, 671, 671, 671, 671, 671, 671, 671, 671, 671, 671, 671, 671, 671, 671, 671, 671, 671, 671, 671, 671, 671, 671, 671, 671, 671, 671, 671, 671, 671, 671, 671, 671, 671, 671, 671, 671, 671, 671, 671, 671, 671, 671, 671, 671, 671, 671, 671, 671, 671, 671, 671, 671, 671, 671, 671, 671, 671, 671, 671, 671, 671, 671, 671, 671, 671, 671, 671, 671, 671, 671, 671, 671, 671, 671, 671, 671, 671, 671, 671, 671, 671, 671, 671, 671, 671, 671, 671, 671, 671, 671, 671, 671, 671, 671, 671, 671, 671, 671, 671, 671, 671, 671, 671, 671, 671, 671, 671, 671, 671, 671, 671, 671, 671, 671, 671, 671, 671, 671, 671, 671, 671, 671, 671, 671, 671, 671, 671, 671, 671, 671, 671, 671, 671, 671, 671, 671, 671, 671, 671, 671, 671, 671, 671, 671, 671, 671, 671, 671, 671, 671, 671, 671, 671, 671, 671, 671, 671, 671, 671, 671, 671, 671, 671, 671, 671, 671, 671, 671, 671, 671, 671, 671, 671, 671, 671, 671, 671, 671]</td><td>0.00040946995</td><td>1444</td></tr><tr><td>Even distribution with spread remainder</td><td>[672, 672, 672, 672, 672, 672, 672, 672, 672, 672, 672, 672, 672, 672, 672, 672, 672, 672, 672, 672, 672, 672, 672, 672, 672, 672, 672, 672, 672, 672, 672, 672, 672, 672, 672, 672, 672, 672, 672, 672, 672, 672, 672, 672, 672, 672, 672, 672, 672, 672, 672, 672, 672, 672, 672, 672, 672, 672, 672, 672, 672, 672, 672, 672, 672, 672, 672, 672, 672, 672, 672, 672, 672, 672, 672, 672, 672, 672, 672, 672, 672, 672, 672, 672, 672, 672, 672, 672, 672, 672, 672, 672, 672, 672, 672, 672, 672, 672, 672, 672, 672, 672, 672, 672, 672, 672, 672, 672, 672, 672, 672, 672, 672, 672, 672, 672, 672, 672, 672, 672, 672, 672, 672, 672, 672, 672, 672, 672, 672, 672, 672, 672, 672, 672, 672, 672, 672, 672, 672, 672, 672, 672, 672, 672, 672, 672, 672, 672, 672, 672, 672, 672, 672, 672, 672, 672, 672, 672, 672, 672, 672, 672, 672, 672, 672, 672, 672, 672, 672, 672, 672, 672, 672, 672, 672, 672, 672, 672, 672, 672, 672, 672, 672, 672, 672, 672, 672, 672, 672, 672, 672, 672, 672, 672, 672, 672, 672, 672, 672, 672, 672, 672, 672, 672, 672, 672, 672, 672, 672, 672, 672, 672, 672, 672, 672, 672, 672, 672, 672, 672, 672, 672, 671, 671, 671, 671, 671, 671, 671, 671, 671, 671, 671, 671, 671, 671, 671, 671, 671, 671, 671, 671, 671, 671, 671, 671, 671, 671, 671, 671, 671, 671, 671, 671, 671, 671]</td><td>0.00025259779999999997</td><td>889</td></tr></table>"
      ],
      "text/plain": [
       "<IPython.core.display.HTML object>"
      ]
     },
     "metadata": {},
     "output_type": "display_data"
    }
   ],
   "source": [
    "even_distribution_remainder_spread = [n//m] * m\n",
    "for i in range(n % m):\n",
    "    even_distribution_remainder_spread[i] += 1\n",
    "assert(sum(even_distribution_remainder_spread) == n)\n",
    "\n",
    "display_table([\n",
    "    score_tuple(\"Even distribution\", even_distribution),\n",
    "    score_tuple(\"Even distribution with spread remainder\", even_distribution_remainder_spread)\n",
    "])"
   ]
  },
  {
   "cell_type": "markdown",
   "id": "fe24476c",
   "metadata": {},
   "source": [
    "For our smaller example (NagyA1), this did not improve the runtime, but what about TarvD1?"
   ]
  },
  {
   "cell_type": "code",
   "execution_count": 24,
   "id": "fcc40809",
   "metadata": {},
   "outputs": [
    {
     "data": {
      "text/html": [
       "<table><tr><th>Name</th><th>Assigned numbers per rank</th><th>Score</th><th>Number of messages</th><tr><td>Even distribution</td><td>[1990, 1972, 1972, 1972, 1972, 1972, 1972, 1972, 1972, 1972, 1972, 1972, 1972, 1972, 1972, 1972, 1972, 1972, 1972, 1972, 1972, 1972, 1972, 1972, 1972, 1972, 1972, 1972, 1972, 1972, 1972, 1972, 1972, 1972, 1972, 1972, 1972, 1972, 1972, 1972, 1972, 1972, 1972, 1972, 1972, 1972, 1972, 1972, 1972, 1972, 1972, 1972, 1972, 1972, 1972, 1972, 1972, 1972, 1972, 1972, 1972, 1972, 1972, 1972, 1972, 1972, 1972, 1972, 1972, 1972, 1972, 1972, 1972, 1972, 1972, 1972, 1972, 1972, 1972, 1972, 1972, 1972, 1972, 1972, 1972, 1972, 1972, 1972, 1972, 1972, 1972, 1972, 1972, 1972, 1972, 1972, 1972, 1972, 1972, 1972, 1972, 1972, 1972, 1972, 1972, 1972, 1972, 1972, 1972, 1972, 1972, 1972, 1972, 1972, 1972, 1972, 1972, 1972, 1972, 1972, 1972, 1972, 1972, 1972, 1972, 1972, 1972, 1972, 1972, 1972, 1972, 1972, 1972, 1972, 1972, 1972, 1972, 1972, 1972, 1972, 1972, 1972, 1972, 1972, 1972, 1972, 1972, 1972, 1972, 1972, 1972, 1972, 1972, 1972, 1972, 1972, 1972, 1972, 1972, 1972, 1972, 1972, 1972, 1972, 1972, 1972, 1972, 1972, 1972, 1972, 1972, 1972, 1972, 1972, 1972, 1972, 1972, 1972, 1972, 1972, 1972, 1972, 1972, 1972, 1972, 1972, 1972, 1972, 1972, 1972, 1972, 1972, 1972, 1972, 1972, 1972, 1972, 1972, 1972, 1972, 1972, 1972, 1972, 1972, 1972, 1972, 1972, 1972, 1972, 1972, 1972, 1972, 1972, 1972, 1972, 1972, 1972, 1972, 1972, 1972, 1972, 1972, 1972, 1972, 1972, 1972, 1972, 1972, 1972, 1972, 1972, 1972, 1972, 1972, 1972, 1972, 1972, 1972, 1972, 1972, 1972, 1972, 1972, 1972, 1972, 1972, 1972, 1972, 1972, 1972, 1972, 1972, 1972, 1972, 1972, 1972]</td><td>0.00046881749999999996</td><td>1639</td></tr><tr><td>Even distribution with spread remainder</td><td>[1973, 1973, 1973, 1973, 1973, 1973, 1973, 1973, 1973, 1973, 1973, 1973, 1973, 1973, 1973, 1973, 1973, 1973, 1972, 1972, 1972, 1972, 1972, 1972, 1972, 1972, 1972, 1972, 1972, 1972, 1972, 1972, 1972, 1972, 1972, 1972, 1972, 1972, 1972, 1972, 1972, 1972, 1972, 1972, 1972, 1972, 1972, 1972, 1972, 1972, 1972, 1972, 1972, 1972, 1972, 1972, 1972, 1972, 1972, 1972, 1972, 1972, 1972, 1972, 1972, 1972, 1972, 1972, 1972, 1972, 1972, 1972, 1972, 1972, 1972, 1972, 1972, 1972, 1972, 1972, 1972, 1972, 1972, 1972, 1972, 1972, 1972, 1972, 1972, 1972, 1972, 1972, 1972, 1972, 1972, 1972, 1972, 1972, 1972, 1972, 1972, 1972, 1972, 1972, 1972, 1972, 1972, 1972, 1972, 1972, 1972, 1972, 1972, 1972, 1972, 1972, 1972, 1972, 1972, 1972, 1972, 1972, 1972, 1972, 1972, 1972, 1972, 1972, 1972, 1972, 1972, 1972, 1972, 1972, 1972, 1972, 1972, 1972, 1972, 1972, 1972, 1972, 1972, 1972, 1972, 1972, 1972, 1972, 1972, 1972, 1972, 1972, 1972, 1972, 1972, 1972, 1972, 1972, 1972, 1972, 1972, 1972, 1972, 1972, 1972, 1972, 1972, 1972, 1972, 1972, 1972, 1972, 1972, 1972, 1972, 1972, 1972, 1972, 1972, 1972, 1972, 1972, 1972, 1972, 1972, 1972, 1972, 1972, 1972, 1972, 1972, 1972, 1972, 1972, 1972, 1972, 1972, 1972, 1972, 1972, 1972, 1972, 1972, 1972, 1972, 1972, 1972, 1972, 1972, 1972, 1972, 1972, 1972, 1972, 1972, 1972, 1972, 1972, 1972, 1972, 1972, 1972, 1972, 1972, 1972, 1972, 1972, 1972, 1972, 1972, 1972, 1972, 1972, 1972, 1972, 1972, 1972, 1972, 1972, 1972, 1972, 1972, 1972, 1972, 1972, 1972, 1972, 1972, 1972, 1972, 1972, 1972, 1972, 1972, 1972, 1972]</td><td>0.00046902794999999995</td><td>1640</td></tr></table>"
      ],
      "text/plain": [
       "<IPython.core.display.HTML object>"
      ]
     },
     "metadata": {},
     "output_type": "display_data"
    }
   ],
   "source": [
    "n = 504850\n",
    "p = 256\n",
    "\n",
    "even_distribution = [n//m] * m\n",
    "even_distribution[0] += n - sum(even_distribution)\n",
    "\n",
    "even_distribution_remainder_spread = [n//m] * m\n",
    "for i in range(n % m):\n",
    "    even_distribution_remainder_spread[i] += 1\n",
    "\n",
    "display_table([\n",
    "    score_tuple(\"Even distribution\", even_distribution),\n",
    "    score_tuple(\"Even distribution with spread remainder\", even_distribution_remainder_spread)\n",
    "])"
   ]
  },
  {
   "cell_type": "markdown",
   "id": "69f3989c",
   "metadata": {},
   "source": [
    "Now, let us combine our two approaches and devise an even distribution with a spread remainder that is optimized to increase the number of least-significant zeros:"
   ]
  },
  {
   "cell_type": "code",
   "execution_count": 31,
   "id": "816364bd",
   "metadata": {},
   "outputs": [
    {
     "data": {
      "text/html": [
       "<table><tr><th>Name</th><th>Assigned numbers per rank</th><th>Score</th><th>Number of messages</th><tr><td>Even distribution with spread remainder and optimized Index</td><td>[1792, 1792, 2048, 2048, 2048, 2048, 1792, 1792, 2397, 1699, 2048, 2048, 2048, 1792, 1792, 2384, 1712, 2048, 2048, 2048, 1792, 1792, 2048, 2048, 2048, 2048, 2048, 1792, 1792, 2048, 2048, 2048, 2048, 1792, 1792, 2402, 1694, 2048, 2048, 2048, 1792, 1792, 2382, 1714, 2048, 2048, 2048, 1792, 1792, 2048, 2048, 2048, 2048, 2048, 1792, 1792, 2048, 2048, 2048, 2048, 1792, 1792, 2398, 1698, 2048, 2048, 2048, 1792, 1792, 2378, 1718, 2048, 2048, 2048, 1792, 1792, 2048, 2048, 2048, 2048, 2048, 1792, 1792, 2048, 2048, 2048, 2048, 1792, 1792, 2394, 1702, 2048, 2048, 2048, 1792, 1792, 2374, 1722, 2048, 2048, 2048, 1792, 1792, 2048, 2048, 2048, 2048, 2048, 1792, 1792, 2048, 2048, 2048, 2048, 1792, 1792, 2390, 1706, 2048, 2048, 2048, 1792, 1792, 2370, 1726, 2048, 2048, 2048, 1792, 1792, 2048, 2048, 2048, 2048, 1792, 1792, 2406, 1690, 2048, 2048, 2048, 1792, 1792, 2386, 1710, 2048, 2048, 2048, 1792, 1792, 2048, 2048, 2048, 2048, 2048, 1792, 1792, 2048, 2048, 2048, 2048, 1792, 1792, 2402, 1694, 2048, 2048, 2048, 1792, 1792, 2382, 1714, 2048, 2048, 2048, 1792, 1792, 2048, 2048, 2048, 2048, 2048, 1792, 1792, 2048, 2048, 2048, 2048, 1792, 1792, 2398, 1698, 2048, 2048, 2048, 1792, 1792, 2378, 1718, 2048, 2048, 2048, 1792, 1792, 2048, 2048, 2048, 2048, 2048, 1792, 1792, 2048, 2048, 2048, 2048, 1792, 1792, 2394, 1702, 2048, 2048, 2048, 1792, 1792, 2374, 1722, 2048, 2048, 2048, 1792, 1792, 2048, 2048, 2048, 2048, 2048, 1792, 1792, 2048, 2048, 2048, 2048, 1792, 1792, 2390, 1706, 2048, 2048, 2048, 1792, 1792, 2370, 1726, 2048, 2048, 2066]</td><td>0.0001844859</td><td>621</td></tr><tr><td>Even distribution with spread remainder</td><td>[1973, 1973, 1973, 1973, 1973, 1973, 1973, 1973, 1973, 1973, 1973, 1973, 1973, 1973, 1973, 1973, 1973, 1973, 1972, 1972, 1972, 1972, 1972, 1972, 1972, 1972, 1972, 1972, 1972, 1972, 1972, 1972, 1972, 1972, 1972, 1972, 1972, 1972, 1972, 1972, 1972, 1972, 1972, 1972, 1972, 1972, 1972, 1972, 1972, 1972, 1972, 1972, 1972, 1972, 1972, 1972, 1972, 1972, 1972, 1972, 1972, 1972, 1972, 1972, 1972, 1972, 1972, 1972, 1972, 1972, 1972, 1972, 1972, 1972, 1972, 1972, 1972, 1972, 1972, 1972, 1972, 1972, 1972, 1972, 1972, 1972, 1972, 1972, 1972, 1972, 1972, 1972, 1972, 1972, 1972, 1972, 1972, 1972, 1972, 1972, 1972, 1972, 1972, 1972, 1972, 1972, 1972, 1972, 1972, 1972, 1972, 1972, 1972, 1972, 1972, 1972, 1972, 1972, 1972, 1972, 1972, 1972, 1972, 1972, 1972, 1972, 1972, 1972, 1972, 1972, 1972, 1972, 1972, 1972, 1972, 1972, 1972, 1972, 1972, 1972, 1972, 1972, 1972, 1972, 1972, 1972, 1972, 1972, 1972, 1972, 1972, 1972, 1972, 1972, 1972, 1972, 1972, 1972, 1972, 1972, 1972, 1972, 1972, 1972, 1972, 1972, 1972, 1972, 1972, 1972, 1972, 1972, 1972, 1972, 1972, 1972, 1972, 1972, 1972, 1972, 1972, 1972, 1972, 1972, 1972, 1972, 1972, 1972, 1972, 1972, 1972, 1972, 1972, 1972, 1972, 1972, 1972, 1972, 1972, 1972, 1972, 1972, 1972, 1972, 1972, 1972, 1972, 1972, 1972, 1972, 1972, 1972, 1972, 1972, 1972, 1972, 1972, 1972, 1972, 1972, 1972, 1972, 1972, 1972, 1972, 1972, 1972, 1972, 1972, 1972, 1972, 1972, 1972, 1972, 1972, 1972, 1972, 1972, 1972, 1972, 1972, 1972, 1972, 1972, 1972, 1972, 1972, 1972, 1972, 1972, 1972, 1972, 1972, 1972, 1972, 1972]</td><td>0.00046902794999999995</td><td>1640</td></tr></table>"
      ],
      "text/plain": [
       "<IPython.core.display.HTML object>"
      ]
     },
     "metadata": {},
     "output_type": "display_data"
    }
   ],
   "source": [
    "# optimized even\n",
    "opt_even = calcStartIndices(even_distribution_remainder_spread.copy())\n",
    "prev_idx = opt_even[0]\n",
    "for i, idx in enumerate(opt_even):\n",
    "    if i == 0:\n",
    "        continue\n",
    "    opt_even[i] = optimizeIdx(prev_idx, idx, n, m, dev=0.2)\n",
    "    prev_idx = opt_even[i]\n",
    "\n",
    "opt_even = list(startIndices2nSummands(n, opt_even))\n",
    "assert(sum(opt_even) == sum(even_distribution_remainder_spread))\n",
    "\n",
    "display_table([\n",
    "    score_tuple(\"Even distribution with spread remainder and optimized Index\", opt_even),\n",
    "    score_tuple(\"Even distribution with spread remainder\", even_distribution_remainder_spread)\n",
    "]) "
   ]
  },
  {
   "cell_type": "markdown",
   "id": "19318548",
   "metadata": {},
   "source": [
    "Nice, that is **a 1.55x speedup** compared to the even distribution, while using **less than a third of the messages**."
   ]
  }
 ],
 "metadata": {
  "kernelspec": {
   "display_name": "Python 3 (ipykernel)",
   "language": "python",
   "name": "python3"
  },
  "language_info": {
   "codemirror_mode": {
    "name": "ipython",
    "version": 3
   },
   "file_extension": ".py",
   "mimetype": "text/x-python",
   "name": "python",
   "nbconvert_exporter": "python",
   "pygments_lexer": "ipython3",
   "version": "3.10.2"
  }
 },
 "nbformat": 4,
 "nbformat_minor": 5
}
