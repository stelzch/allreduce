{
 "cells": [
  {
   "cell_type": "code",
   "execution_count": null,
   "id": "ec84ad25",
   "metadata": {},
   "outputs": [],
   "source": [
    "import sqlite3\n",
    "from IPython.display import HTML, display\n",
    "\n",
    "db = 'file:results.db?mode=ro'\n",
    "con = sqlite3.connect(db, uri=True)\n",
    "\n",
    "cur = con.cursor()\n",
    "cur.execute(\"SELECT * FROM runs WHERE description LIKE '%scaling%'\")\n",
    "\n",
    "def display_result(cur, data=cur.fetchall()):\n",
    "    html = \"<table>\"\n",
    "    headers = list(map(lambda x: x[0], cur.description))\n",
    "    \n",
    "    html += \"<thead><tr>\" + \"\".join([\"<td>\" + h + \"</td>\" for h in headers]) + \"</tr></thead>\"\n",
    "    for row in data:\n",
    "        html += \"<tr>\"\n",
    "        for field in row:\n",
    "            html += \"<td>%s</td>\"%(field)\n",
    "        html += \"</tr>\"\n",
    "    html += \"</table>\"\n",
    "    display(HTML(html))\n",
    "display_result(cur)"
   ]
  },
  {
   "cell_type": "code",
   "execution_count": null,
   "id": "e7e4be7e",
   "metadata": {},
   "outputs": [],
   "source": [
    "benchmark_id = 23"
   ]
  },
  {
   "cell_type": "code",
   "execution_count": null,
   "id": "ee4e1b08",
   "metadata": {},
   "outputs": [],
   "source": [
    "%matplotlib notebook\n",
    "import matplotlib.pyplot as plt\n",
    "from matplotlib.ticker import EngFormatter\n",
    "\n",
    "f = plt.figure()\n",
    "ax = f.subplots(1)\n",
    "ax.set_xlabel(\"Number of ranks\")\n",
    "ax.set_ylabel(\"Speedup\")\n",
    "\n",
    "cur.execute(\"SELECT description FROM runs WHERE id = ?\", (benchmark_id,))\n",
    "description = cur.fetchone()[0]\n",
    "\n",
    "cur.execute(\"SELECT time_ns, n_summands FROM results WHERE run_id=? AND ranks = 1\", (benchmark_id,))\n",
    "r = cur.fetchone()\n",
    "sequential_time = r[0] * 1e-9\n",
    "\n",
    "ax.set_title(f\"{description} of {r[1]} summands\")\n",
    "\n",
    "cur.execute(\"SELECT ranks, time_ns FROM results WHERE run_id = ? AND ranks > 1 ORDER BY ranks\", [benchmark_id])\n",
    "\n",
    "X = [1] # core count\n",
    "Y = [1] # speed-up\n",
    "\n",
    "for row in cur.fetchall():\n",
    "    X.append(row[0])\n",
    "    parallel_time = row[1] * 1e-9\n",
    "    speedup = sequential_time / parallel_time\n",
    "    Y.append(speedup)\n",
    "\n",
    "plt.scatter(X, Y)\n",
    "plt.plot(X, Y)\n",
    "plt.show()"
   ]
  },
  {
   "cell_type": "code",
   "execution_count": null,
   "id": "3da9349c",
   "metadata": {},
   "outputs": [],
   "source": []
  }
 ],
 "metadata": {
  "kernelspec": {
   "display_name": "Python 3 (ipykernel)",
   "language": "python",
   "name": "python3"
  },
  "language_info": {
   "codemirror_mode": {
    "name": "ipython",
    "version": 3
   },
   "file_extension": ".py",
   "mimetype": "text/x-python",
   "name": "python",
   "nbconvert_exporter": "python",
   "pygments_lexer": "ipython3",
   "version": "3.10.1"
  }
 },
 "nbformat": 4,
 "nbformat_minor": 5
}
