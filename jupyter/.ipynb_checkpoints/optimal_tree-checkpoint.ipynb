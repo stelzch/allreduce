{
 "cells": [
  {
   "cell_type": "markdown",
   "id": "75488564",
   "metadata": {},
   "source": [
    "# Choosing an optimal distributed binary tree\n",
    "\n",
    "As proven in [this](https://math.stackexchange.com/a/1462106) StackExchange response, there are $\\frac{(y+x-1)!}{y!(x-1)!}$ possible combinations of x numbers from $\\mathbb{N}_0$ that sum up to y.\n",
    "\n",
    "If we define $n$ as the number of floating-point numbers that are to be summed up and $m$ as the largest rank index (cluster size minus 1), we therefore determine that the number of possible assignment of summands to ranks (including zero-assignments and permutations) is:\n",
    "$$\\frac{(n+m)!}{n! m!} = \\frac{n! \\cdot (n+1) \\cdot ... \\cdot (n+m)}{n!m!} = \\frac{1}{m!} \\Pi^m_{i=1} (n+i) $$"
   ]
  },
  {
   "cell_type": "code",
   "execution_count": 1,
   "id": "05de2a33",
   "metadata": {
    "scrolled": true
   },
   "outputs": [
    {
     "data": {
      "text/plain": [
       "4.092836842947645e+47"
      ]
     },
     "execution_count": 1,
     "metadata": {},
     "output_type": "execute_result"
    }
   ],
   "source": [
    "from math import factorial\n",
    "from functools import reduce\n",
    "\n",
    "n = 21410970 # number of per-site log likelihoods from TarvD7\n",
    "m = 8 -1 # number of cores in my desktop CPU - 1\n",
    "\n",
    "\n",
    "combinations = reduce(lambda x, y: x * y, [n + i for i in range(1, m + 1)]) / factorial(m)\n",
    "\n",
    "combinations"
   ]
  },
  {
   "cell_type": "markdown",
   "id": "0883e307",
   "metadata": {},
   "source": [
    "So, when calculating the sum of log-likelihoods of TarvD7 on my desktop PC, there are about $4 \\cdot 10^{47}$ different \n",
    "binary trees we could use. That is a lot. If we still want to choose a decent tree, we need heuristics."
   ]
  },
  {
   "cell_type": "code",
   "execution_count": 2,
   "id": "cda75bf4",
   "metadata": {},
   "outputs": [],
   "source": [
    "def parent(idx):\n",
    "    return idx & (idx - 1)\n",
    "\n",
    "def calcStartIndices(n_summands):\n",
    "    idx = 0\n",
    "    result = list()\n",
    "    for n in n_summands:\n",
    "        result.append(idx)\n",
    "        idx += n\n",
    "    return result\n",
    "\n",
    "def rankFromIndex(idx, startIndices):\n",
    "    guard = [(len(startIndices), 1)]\n",
    "    offset = [(rank, startIdx - idx) for rank, startIdx in enumerate(startIndices)] + guard\n",
    "    # find first positive valued offset\n",
    "    offset_is_positive = lambda rank_offset_tuple: rank_offset_tuple[1] > 0\n",
    "    rank = next(filter(offset_is_positive, offset))[0]\n",
    "    return rank - 1\n",
    "\n",
    "\n",
    "\"\"\"\n",
    "Given a list of summands that are assigned to each rank, how many partial sums must be sent out to another rank.\n",
    "\"\"\"\n",
    "def rankIntersectingNumbers(n_summands, startIndices):\n",
    "    n_parts = sum(n_summands)\n",
    "    is_rank_intersecting = lambda idx: rankFromIndex(idx, startIndices) != rankFromIndex(parent(idx), startIndices)\n",
    "    \n",
    "    rank_intersecting_summands = filter(is_rank_intersecting, range(0, n_parts))\n",
    "    return list(rank_intersecting_summands)\n",
    "\n",
    "def numberOfRankIntersectingNumbers(n_summands, startIndices):\n",
    "    n_parts = sum(n_summands)\n",
    "    isRankIntersecting = lambda idx: rankFromIndex(idx, startIndices) != rankFromIndex(parent(idx), startIndices)\n",
    "    l = map(isRankIntersecting,range(0, n_parts))\n",
    "    return reduce(lambda acc, flag: acc + 1 if flag else acc, l, 0)"
   ]
  },
  {
   "cell_type": "code",
   "execution_count": 3,
   "id": "b6acbe36",
   "metadata": {},
   "outputs": [
    {
     "name": "stdout",
     "output_type": "stream",
     "text": [
      "[3, 4, 7, 8, 16]\n",
      "5\n"
     ]
    }
   ],
   "source": [
    "n_summands = [3, 4, 23]\n",
    "startIndices = calcStartIndices(n_summands)\n",
    "\n",
    "rin = rankIntersectingNumbers(n_summands, startIndices)\n",
    "print(rin)\n",
    "print(numberOfRankIntersectingNumbers(n_summands, startIndices))"
   ]
  },
  {
   "cell_type": "markdown",
   "id": "4cf31596",
   "metadata": {},
   "source": [
    "Covering the whole search space is likely not feasible, since the calculation of rankIntersectingNumbers is non-trivial and the number of possible combinations really high."
   ]
  },
  {
   "cell_type": "code",
   "execution_count": 4,
   "id": "72381c88",
   "metadata": {},
   "outputs": [],
   "source": [
    "from itertools import combinations\n",
    "\n",
    "# does not truly return all combinations\n",
    "def possibleNSummands(clusterSize, numberOfParts):\n",
    "    return filter(lambda c: sum(c) == numberOfParts,\n",
    "                  combinations(range(0, numberOfParts), clusterSize))\n",
    "    \n"
   ]
  },
  {
   "cell_type": "code",
   "execution_count": 5,
   "id": "19bc7e03",
   "metadata": {},
   "outputs": [],
   "source": [
    "from itertools import permutations\n",
    "\n",
    "def possibleNSummands(clusterSize, numberOfParts):\n",
    "    # Naive implementation after https://math.stackexchange.com/a/1462106\n",
    "    t = (\"*\" * numberOfParts) + (\"+\" * clusterSize)\n",
    "    for tuple_c in permutations(t, len(t)):\n",
    "        c = \"\".join(tuple_c)\n",
    "        n_summands = list(map(lambda x: len(x), c.split(\"+\")))\n",
    "        # relative percentage of summands\n",
    "        legal = map(lambda x: (1.0 - ( x/ (numberOfParts / clusterSize)) <= 0.1), n_summands)\n",
    "        if all(list(legal)):\n",
    "            yield n_summands\n",
    "        "
   ]
  },
  {
   "cell_type": "code",
   "execution_count": 6,
   "id": "54d112d0",
   "metadata": {},
   "outputs": [],
   "source": [
    "%%script false --no-raise-error\n",
    "# Even if left running 24/7, this piece of code probably wont finish in my lifetime (or the reader's)\n",
    "# MORTALS, DO NOT RUN THIS CODE!\n",
    "clusterSize = 8\n",
    "number_of_parts = 214109\n",
    "scores = [(len(rankIntersectingNumbers(n_summands, calcStartIndices(n_summands))), n_summands)\n",
    "          for n_summands in possibleNSummands(clusterSize, number_of_parts)]\n",
    "\n",
    "best_scores = sorted(scores, key=lambda t: t[0])\n",
    "best = best_scores[0]\n",
    "perfect = best[0] <= clusterSize\n",
    "\n",
    "(perfect, best)"
   ]
  },
  {
   "cell_type": "markdown",
   "id": "c11a38c9",
   "metadata": {},
   "source": [
    "If we simply try to minimize the number of messages sent between ranks, the search algorithm will slyly place all numbers on rank 0, alleviating the communicator of sending any messages. In reality, this most likely will not be the fastest method, because the CPU is going to be the bottleneck instead of the network. Other performance metrics are needed to score different distributions.\n",
    "\n",
    "## Modeling communication and computation\n",
    "\n",
    "With [this naive benchmark](https://github.com/stelzch/allreduce-prep/blob/599fb8e75f7110b96bd1b59e503677b4481f2d89/benchmarks/mpi_send_bench.cpp), we can see that a send & receive can take as little as 281 ns on a shared-memory machine. Let us generously assume that this is the time used by sending a partial sum between two ranks. A simple addition of double values is shown by the following benchmark to take about 4.16ns, assuming all data does fit in the cache:\n",
    "\n",
    "    Running ./benchmark\n",
    "    Run on (8 X 4000 MHz CPU s)\n",
    "    CPU Caches:\n",
    "      L1 Data 16 KiB (x8)\n",
    "      L1 Instruction 64 KiB (x4)\n",
    "      L2 Unified 2048 KiB (x4)\n",
    "      L3 Unified 8192 KiB (x1)\n",
    "    Load Average: 1.82, 2.26, 2.41\n",
    "    ***WARNING*** CPU scaling is enabled, the benchmark real time measurements may be noisy and will incur extra overhead.\n",
    "    ----------------------------------------------------------------------\n",
    "    Benchmark                            Time             CPU   Iterations\n",
    "    ----------------------------------------------------------------------\n",
    "    [...]\n",
    "    BM_summation                      4.16 ns         4.15 ns    168624096\n",
    "    \n",
    "With these naive estimations, we build the following tree scoring function:\n",
    "\n",
    "$$\n",
    "Score = t_{\\textrm{MPI_Send}} * n_{\\textrm{rankIntersectingNumbers}} + max \\{i \\in [0, m]\\, |\\, n_i * t_{\\textrm{double add}} \\}\n",
    "$$\n",
    "\n",
    "where $n_{\\textrm{rankIntersectingNumbers}}$ is the numbers of rank intersecting partial sums, $m$ the largest rank index and $n_i$ the number of summands assigned to rank $i$."
   ]
  },
  {
   "cell_type": "code",
   "execution_count": 7,
   "id": "8e6579ca",
   "metadata": {},
   "outputs": [
    {
     "data": {
      "text/html": [
       "<table><tr><td><h4>Evenly distributed</h4></td><td><h4>[126212, 126212, 126212, 126212]</h4></td><td><h4>0.0005313668</h4></td></tr><tr><td><h4>All on rank 0</h4></td><td><h4>[504848, 0, 0, 0]</h4></td><td><h4>0.0020951192</h4></td></tr></table>"
      ],
      "text/plain": [
       "<IPython.core.display.HTML object>"
      ]
     },
     "metadata": {},
     "output_type": "display_data"
    }
   ],
   "source": [
    "t_send = 281e-9\n",
    "t_doubleadd = 4.15e-9\n",
    "\n",
    "def score(x):\n",
    "    return t_send * len(rankIntersectingNumbers(x, calcStartIndices(x))) + max(x) * t_doubleadd\n",
    "\n",
    "n = 504850 # number of per-site log likelihoods from PeteD8\n",
    "\n",
    "from IPython.display import HTML, display\n",
    "\n",
    "def display_table(data):\n",
    "    html = \"<table>\"\n",
    "    for row in data:\n",
    "        html += \"<tr>\"\n",
    "        for field in row:\n",
    "            html += \"<td><h4>%s</h4></td>\"%(field)\n",
    "        html += \"</tr>\"\n",
    "    html += \"</table>\"\n",
    "    display(HTML(html))\n",
    "\n",
    "score_tuple = lambda desc, x: (desc, x, score(x))\n",
    "display_table([\n",
    "    score_tuple(\"Evenly distributed\", [n//4] * 4),\n",
    "    score_tuple(\"All on rank 0\", [n // 4 * 4, 0, 0, 0])\n",
    "])"
   ]
  },
  {
   "cell_type": "markdown",
   "id": "f012b4b8",
   "metadata": {},
   "source": [
    "Now we can see that it takes considerably more time when doing everything on rank 0, since we profit from our multiprocessing capabilities.\n",
    "\n",
    "Let us use 256 cores now, and round the number of summands down to the greatest power of 2 that is still smaller than our fair share."
   ]
  },
  {
   "cell_type": "code",
   "execution_count": 8,
   "id": "5c1b3435",
   "metadata": {},
   "outputs": [
    {
     "data": {
      "text/html": [
       "<table><tr><td><h4>Evenly distributed</h4></td><td><h4>[2184, 1979, 1979, 1979, 1979, 1979, 1979, 1979, 1979, 1979, 1979, 1979, 1979, 1979, 1979, 1979, 1979, 1979, 1979, 1979, 1979, 1979, 1979, 1979, 1979, 1979, 1979, 1979, 1979, 1979, 1979, 1979, 1979, 1979, 1979, 1979, 1979, 1979, 1979, 1979, 1979, 1979, 1979, 1979, 1979, 1979, 1979, 1979, 1979, 1979, 1979, 1979, 1979, 1979, 1979, 1979, 1979, 1979, 1979, 1979, 1979, 1979, 1979, 1979, 1979, 1979, 1979, 1979, 1979, 1979, 1979, 1979, 1979, 1979, 1979, 1979, 1979, 1979, 1979, 1979, 1979, 1979, 1979, 1979, 1979, 1979, 1979, 1979, 1979, 1979, 1979, 1979, 1979, 1979, 1979, 1979, 1979, 1979, 1979, 1979, 1979, 1979, 1979, 1979, 1979, 1979, 1979, 1979, 1979, 1979, 1979, 1979, 1979, 1979, 1979, 1979, 1979, 1979, 1979, 1979, 1979, 1979, 1979, 1979, 1979, 1979, 1979, 1979, 1979, 1979, 1979, 1979, 1979, 1979, 1979, 1979, 1979, 1979, 1979, 1979, 1979, 1979, 1979, 1979, 1979, 1979, 1979, 1979, 1979, 1979, 1979, 1979, 1979, 1979, 1979, 1979, 1979, 1979, 1979, 1979, 1979, 1979, 1979, 1979, 1979, 1979, 1979, 1979, 1979, 1979, 1979, 1979, 1979, 1979, 1979, 1979, 1979, 1979, 1979, 1979, 1979, 1979, 1979, 1979, 1979, 1979, 1979, 1979, 1979, 1979, 1979, 1979, 1979, 1979, 1979, 1979, 1979, 1979, 1979, 1979, 1979, 1979, 1979, 1979, 1979, 1979, 1979, 1979, 1979, 1979, 1979, 1979, 1979, 1979, 1979, 1979, 1979, 1979, 1979, 1979, 1979, 1979, 1979, 1979, 1979, 1979, 1979, 1979, 1979, 1979, 1979, 1979, 1979, 1979, 1979, 1979, 1979, 1979, 1979, 1979, 1979, 1979, 1979, 1979, 1979, 1979, 1979, 1979, 1979, 1979, 1979, 1979, 1979, 1979, 1979]</h4></td><td><h4>0.0004687796</h4></td></tr><tr><td><h4>Round down to power of 2</h4></td><td><h4>[244754, 1024, 1024, 1024, 1024, 1024, 1024, 1024, 1024, 1024, 1024, 1024, 1024, 1024, 1024, 1024, 1024, 1024, 1024, 1024, 1024, 1024, 1024, 1024, 1024, 1024, 1024, 1024, 1024, 1024, 1024, 1024, 1024, 1024, 1024, 1024, 1024, 1024, 1024, 1024, 1024, 1024, 1024, 1024, 1024, 1024, 1024, 1024, 1024, 1024, 1024, 1024, 1024, 1024, 1024, 1024, 1024, 1024, 1024, 1024, 1024, 1024, 1024, 1024, 1024, 1024, 1024, 1024, 1024, 1024, 1024, 1024, 1024, 1024, 1024, 1024, 1024, 1024, 1024, 1024, 1024, 1024, 1024, 1024, 1024, 1024, 1024, 1024, 1024, 1024, 1024, 1024, 1024, 1024, 1024, 1024, 1024, 1024, 1024, 1024, 1024, 1024, 1024, 1024, 1024, 1024, 1024, 1024, 1024, 1024, 1024, 1024, 1024, 1024, 1024, 1024, 1024, 1024, 1024, 1024, 1024, 1024, 1024, 1024, 1024, 1024, 1024, 1024, 1024, 1024, 1024, 1024, 1024, 1024, 1024, 1024, 1024, 1024, 1024, 1024, 1024, 1024, 1024, 1024, 1024, 1024, 1024, 1024, 1024, 1024, 1024, 1024, 1024, 1024, 1024, 1024, 1024, 1024, 1024, 1024, 1024, 1024, 1024, 1024, 1024, 1024, 1024, 1024, 1024, 1024, 1024, 1024, 1024, 1024, 1024, 1024, 1024, 1024, 1024, 1024, 1024, 1024, 1024, 1024, 1024, 1024, 1024, 1024, 1024, 1024, 1024, 1024, 1024, 1024, 1024, 1024, 1024, 1024, 1024, 1024, 1024, 1024, 1024, 1024, 1024, 1024, 1024, 1024, 1024, 1024, 1024, 1024, 1024, 1024, 1024, 1024, 1024, 1024, 1024, 1024, 1024, 1024, 1024, 1024, 1024, 1024, 1024, 1024, 1024, 1024, 1024, 1024, 1024, 1024, 1024, 1024, 1024, 1024, 1024, 1024, 1024, 1024, 1024, 1024, 1024, 1024, 1024, 1024, 1024, 1024, 1024, 1024, 1024, 1024, 1024]</h4></td><td><h4>0.0016580951</h4></td></tr></table>"
      ],
      "text/plain": [
       "<IPython.core.display.HTML object>"
      ]
     },
     "metadata": {},
     "output_type": "display_data"
    }
   ],
   "source": [
    "from math import log2, floor\n",
    "floor_to_power_of_2 = lambda x: 2**floor(log2(x))\n",
    "\n",
    "m = 256 - 1 # Let's throw some cores at the problem\n",
    "\n",
    "per_rank = floor_to_power_of_2(n // m)\n",
    "power2_distribution = [per_rank] * m\n",
    "power2_distribution[0] += n - sum(power2_distribution) # remainder goes on rank 0\n",
    "\n",
    "even_distribution = [n//m] * m\n",
    "even_distribution[0] += n - sum(even_distribution)\n",
    "\n",
    "reference=score_tuple(\"Evenly distributed\", even_distribution)\n",
    "\n",
    "display_table([\n",
    "    reference,\n",
    "    score_tuple(\"Round down to power of 2\", power2_distribution)\n",
    "])"
   ]
  },
  {
   "cell_type": "markdown",
   "id": "afc0a137",
   "metadata": {},
   "source": [
    "The even distribution outperforms our power of 2 approach by an order of magnitude! Impressive, but quite possibly we underestimated the time for message exchange, since we do not take synchronization into account at all.\n",
    "\n",
    "Next, lets try to reduce the number of message by clearing least-significant zeros of the starting indices until we reach a certain threshold."
   ]
  },
  {
   "cell_type": "code",
   "execution_count": 10,
   "id": "c1959397",
   "metadata": {},
   "outputs": [
    {
     "data": {
      "text/html": [
       "<table><tr><td><h4>Evenly distributed</h4></td><td><h4>[2184, 1979, 1979, 1979, 1979, 1979, 1979, 1979, 1979, 1979, 1979, 1979, 1979, 1979, 1979, 1979, 1979, 1979, 1979, 1979, 1979, 1979, 1979, 1979, 1979, 1979, 1979, 1979, 1979, 1979, 1979, 1979, 1979, 1979, 1979, 1979, 1979, 1979, 1979, 1979, 1979, 1979, 1979, 1979, 1979, 1979, 1979, 1979, 1979, 1979, 1979, 1979, 1979, 1979, 1979, 1979, 1979, 1979, 1979, 1979, 1979, 1979, 1979, 1979, 1979, 1979, 1979, 1979, 1979, 1979, 1979, 1979, 1979, 1979, 1979, 1979, 1979, 1979, 1979, 1979, 1979, 1979, 1979, 1979, 1979, 1979, 1979, 1979, 1979, 1979, 1979, 1979, 1979, 1979, 1979, 1979, 1979, 1979, 1979, 1979, 1979, 1979, 1979, 1979, 1979, 1979, 1979, 1979, 1979, 1979, 1979, 1979, 1979, 1979, 1979, 1979, 1979, 1979, 1979, 1979, 1979, 1979, 1979, 1979, 1979, 1979, 1979, 1979, 1979, 1979, 1979, 1979, 1979, 1979, 1979, 1979, 1979, 1979, 1979, 1979, 1979, 1979, 1979, 1979, 1979, 1979, 1979, 1979, 1979, 1979, 1979, 1979, 1979, 1979, 1979, 1979, 1979, 1979, 1979, 1979, 1979, 1979, 1979, 1979, 1979, 1979, 1979, 1979, 1979, 1979, 1979, 1979, 1979, 1979, 1979, 1979, 1979, 1979, 1979, 1979, 1979, 1979, 1979, 1979, 1979, 1979, 1979, 1979, 1979, 1979, 1979, 1979, 1979, 1979, 1979, 1979, 1979, 1979, 1979, 1979, 1979, 1979, 1979, 1979, 1979, 1979, 1979, 1979, 1979, 1979, 1979, 1979, 1979, 1979, 1979, 1979, 1979, 1979, 1979, 1979, 1979, 1979, 1979, 1979, 1979, 1979, 1979, 1979, 1979, 1979, 1979, 1979, 1979, 1979, 1979, 1979, 1979, 1979, 1979, 1979, 1979, 1979, 1979, 1979, 1979, 1979, 1979, 1979, 1979, 1979, 1979, 1979, 1979, 1979, 1979]</h4></td><td><h4>0.0004687796</h4></td></tr><tr><td><h4>LSB clearing</h4></td><td><h4>[17170, 1920, 1920, 1920, 1920, 1920, 1920, 1920, 1920, 1920, 1920, 1920, 1920, 1920, 1920, 1920, 1920, 1920, 1920, 1920, 1920, 1920, 1920, 1920, 1920, 1920, 1920, 1920, 1920, 1920, 1920, 1920, 1920, 1920, 1920, 1920, 1920, 1920, 1920, 1920, 1920, 1920, 1920, 1920, 1920, 1920, 1920, 1920, 1920, 1920, 1920, 1920, 1920, 1920, 1920, 1920, 1920, 1920, 1920, 1920, 1920, 1920, 1920, 1920, 1920, 1920, 1920, 1920, 1920, 1920, 1920, 1920, 1920, 1920, 1920, 1920, 1920, 1920, 1920, 1920, 1920, 1920, 1920, 1920, 1920, 1920, 1920, 1920, 1920, 1920, 1920, 1920, 1920, 1920, 1920, 1920, 1920, 1920, 1920, 1920, 1920, 1920, 1920, 1920, 1920, 1920, 1920, 1920, 1920, 1920, 1920, 1920, 1920, 1920, 1920, 1920, 1920, 1920, 1920, 1920, 1920, 1920, 1920, 1920, 1920, 1920, 1920, 1920, 1920, 1920, 1920, 1920, 1920, 1920, 1920, 1920, 1920, 1920, 1920, 1920, 1920, 1920, 1920, 1920, 1920, 1920, 1920, 1920, 1920, 1920, 1920, 1920, 1920, 1920, 1920, 1920, 1920, 1920, 1920, 1920, 1920, 1920, 1920, 1920, 1920, 1920, 1920, 1920, 1920, 1920, 1920, 1920, 1920, 1920, 1920, 1920, 1920, 1920, 1920, 1920, 1920, 1920, 1920, 1920, 1920, 1920, 1920, 1920, 1920, 1920, 1920, 1920, 1920, 1920, 1920, 1920, 1920, 1920, 1920, 1920, 1920, 1920, 1920, 1920, 1920, 1920, 1920, 1920, 1920, 1920, 1920, 1920, 1920, 1920, 1920, 1920, 1920, 1920, 1920, 1920, 1920, 1920, 1920, 1920, 1920, 1920, 1920, 1920, 1920, 1920, 1920, 1920, 1920, 1920, 1920, 1920, 1920, 1920, 1920, 1920, 1920, 1920, 1920, 1920, 1920, 1920, 1920, 1920, 1920, 1920, 1920, 1920, 1920, 1920, 1920]</h4></td><td><h4>0.0006377514999999999</h4></td></tr></table>"
      ],
      "text/plain": [
       "<IPython.core.display.HTML object>"
      ]
     },
     "metadata": {},
     "output_type": "display_data"
    }
   ],
   "source": [
    "# fair share is the number of summands we would have been assigned if they were evenly distributed.\n",
    "# We accept differences less than or equal to 5%\n",
    "fairShare = n / m\n",
    "deviationWithinBounds = lambda share: 0.95 <= share / fairShare <= 1.05\n",
    "def optimizeIdx(prevIdx, currentIdx):\n",
    "    proposedIdx = currentIdx\n",
    "    while prevIdx < proposedIdx and deviationWithinBounds(proposedIdx - prevIdx):\n",
    "        currentIdx = proposedIdx # if our proposal is accepted, set the current index to the proposed index\n",
    "        proposedIdx = parent(currentIdx) # optimize our index by setting it to its parent\n",
    "    return currentIdx\n",
    "\n",
    "startIndices = [0]\n",
    "for rank in range(1, m):\n",
    "    last = startIndices[-1]\n",
    "    startIndices.append(optimizeIdx(last, last + int(fairShare)))\n",
    "\n",
    "# Get list of summands per rank and add remaining summands to last rank\n",
    "def startIndices2nSummands(n, x):\n",
    "    extended = x + [n]\n",
    "    return map(lambda t: t[1] - t[0], zip(x, extended[1:]))\n",
    "\n",
    "lsbclear_distribution = list(startIndices2nSummands(n, startIndices))\n",
    "display_table([\n",
    "    reference,\n",
    "    score_tuple(\"LSB clearing\", lsbclear_distribution[::-1])\n",
    "])"
   ]
  },
  {
   "cell_type": "markdown",
   "id": "b7c67b83",
   "metadata": {},
   "source": [
    "Better than our round down to 2 approach, but mostly because we are almost exactly the same as the even distribution.\n",
    "It seems that with our model, the calculation is so heavily computation-bounded that our communication overhead does not matter at all!\n",
    "\n",
    "Of course, this not indicative of any real-world work loads. Let us see if we were even successful at reducing the amount of messages:"
   ]
  },
  {
   "cell_type": "code",
   "execution_count": 11,
   "id": "35967a33",
   "metadata": {},
   "outputs": [
    {
     "name": "stdout",
     "output_type": "stream",
     "text": [
      "Messages with even distribution:     1636\n",
      "Messages with lsbclear distribution: 748\n"
     ]
    }
   ],
   "source": [
    "a=len(rankIntersectingNumbers(even_distribution, calcStartIndices(even_distribution)))\n",
    "b=len(rankIntersectingNumbers(lsbclear_distribution, calcStartIndices(lsbclear_distribution)))\n",
    "\n",
    "print(f\"Messages with even distribution:     {a}\")\n",
    "print(f\"Messages with lsbclear distribution: {b}\")"
   ]
  },
  {
   "cell_type": "markdown",
   "id": "4b36353b",
   "metadata": {},
   "source": [
    "Wow, that is really unexpected! We send less than half of the messages compared to the even distribution. So in a context where the communication overhead becomes relevant (small number of summands per rank, longer transmission duration e.g. with NUMA).\n",
    "\n",
    "To verify this quickly, let us test with the same number of cores (256) on a much smaller dataset (NagyA1.psllh with 171998 sites):"
   ]
  },
  {
   "cell_type": "code",
   "execution_count": 12,
   "id": "df9e729a",
   "metadata": {},
   "outputs": [
    {
     "data": {
      "text/html": [
       "<table><tr><td><h4>Even distribution</h4></td><td><h4>[802, 674, 674, 674, 674, 674, 674, 674, 674, 674, 674, 674, 674, 674, 674, 674, 674, 674, 674, 674, 674, 674, 674, 674, 674, 674, 674, 674, 674, 674, 674, 674, 674, 674, 674, 674, 674, 674, 674, 674, 674, 674, 674, 674, 674, 674, 674, 674, 674, 674, 674, 674, 674, 674, 674, 674, 674, 674, 674, 674, 674, 674, 674, 674, 674, 674, 674, 674, 674, 674, 674, 674, 674, 674, 674, 674, 674, 674, 674, 674, 674, 674, 674, 674, 674, 674, 674, 674, 674, 674, 674, 674, 674, 674, 674, 674, 674, 674, 674, 674, 674, 674, 674, 674, 674, 674, 674, 674, 674, 674, 674, 674, 674, 674, 674, 674, 674, 674, 674, 674, 674, 674, 674, 674, 674, 674, 674, 674, 674, 674, 674, 674, 674, 674, 674, 674, 674, 674, 674, 674, 674, 674, 674, 674, 674, 674, 674, 674, 674, 674, 674, 674, 674, 674, 674, 674, 674, 674, 674, 674, 674, 674, 674, 674, 674, 674, 674, 674, 674, 674, 674, 674, 674, 674, 674, 674, 674, 674, 674, 674, 674, 674, 674, 674, 674, 674, 674, 674, 674, 674, 674, 674, 674, 674, 674, 674, 674, 674, 674, 674, 674, 674, 674, 674, 674, 674, 674, 674, 674, 674, 674, 674, 674, 674, 674, 674, 674, 674, 674, 674, 674, 674, 674, 674, 674, 674, 674, 674, 674, 674, 674, 674, 674, 674, 674, 674, 674, 674, 674, 674, 674, 674, 674, 674, 674, 674, 674, 674, 674, 674, 674, 674, 674, 674, 674]</h4></td><td><h4>0.0003728433</h4></td></tr><tr><td><h4>LSB clearing</h4></td><td><h4>[1310, 672, 672, 672, 672, 672, 672, 672, 672, 672, 672, 672, 672, 672, 672, 672, 672, 672, 672, 672, 672, 672, 672, 672, 672, 672, 672, 672, 672, 672, 672, 672, 672, 672, 672, 672, 672, 672, 672, 672, 672, 672, 672, 672, 672, 672, 672, 672, 672, 672, 672, 672, 672, 672, 672, 672, 672, 672, 672, 672, 672, 672, 672, 672, 672, 672, 672, 672, 672, 672, 672, 672, 672, 672, 672, 672, 672, 672, 672, 672, 672, 672, 672, 672, 672, 672, 672, 672, 672, 672, 672, 672, 672, 672, 672, 672, 672, 672, 672, 672, 672, 672, 672, 672, 672, 672, 672, 672, 672, 672, 672, 672, 672, 672, 672, 672, 672, 672, 672, 672, 672, 672, 672, 672, 672, 672, 672, 672, 672, 672, 672, 672, 672, 672, 672, 672, 672, 672, 672, 672, 672, 672, 672, 672, 672, 672, 672, 672, 672, 672, 672, 672, 672, 672, 672, 672, 672, 672, 672, 672, 672, 672, 672, 672, 672, 672, 672, 672, 672, 672, 672, 672, 672, 672, 672, 672, 672, 672, 672, 672, 672, 672, 672, 672, 672, 672, 672, 672, 672, 672, 672, 672, 672, 672, 672, 672, 672, 672, 672, 672, 672, 672, 672, 672, 672, 672, 672, 672, 672, 672, 672, 672, 672, 672, 672, 672, 672, 672, 672, 672, 672, 672, 672, 672, 672, 672, 672, 672, 672, 672, 672, 672, 672, 672, 672, 672, 672, 672, 672, 672, 672, 672, 672, 672, 672, 672, 672, 672, 672, 672, 672, 672, 672, 672, 672]</h4></td><td><h4>0.0003024535</h4></td></tr></table>"
      ],
      "text/plain": [
       "<IPython.core.display.HTML object>"
      ]
     },
     "metadata": {},
     "output_type": "display_data"
    }
   ],
   "source": [
    "n = 171998\n",
    "m = 256 - 1\n",
    "fairShare = n / m\n",
    "\n",
    "even_distribution = [n//m] * m\n",
    "even_distribution[0] += n - sum(even_distribution)\n",
    "\n",
    "startIndices = [0]\n",
    "for rank in range(1, m):\n",
    "    last = startIndices[-1]\n",
    "    startIndices.append(optimizeIdx(last, last + int(fairShare)))\n",
    "    \n",
    "lsbclear_distribution = list(startIndices2nSummands(n, startIndices))\n",
    "display_table([\n",
    "    score_tuple(\"Even distribution\", even_distribution),\n",
    "    score_tuple(\"LSB clearing\", lsbclear_distribution[::-1])\n",
    "])"
   ]
  },
  {
   "cell_type": "markdown",
   "id": "acd53b6c",
   "metadata": {},
   "source": [
    "In this case, our LSB clearing beats the even distribution! In this model, it is about 1.23x faster."
   ]
  }
 ],
 "metadata": {
  "kernelspec": {
   "display_name": "Python 3 (ipykernel)",
   "language": "python",
   "name": "python3"
  },
  "language_info": {
   "codemirror_mode": {
    "name": "ipython",
    "version": 3
   },
   "file_extension": ".py",
   "mimetype": "text/x-python",
   "name": "python",
   "nbconvert_exporter": "python",
   "pygments_lexer": "ipython3",
   "version": "3.9.7"
  }
 },
 "nbformat": 4,
 "nbformat_minor": 5
}
